{
 "cells": [
  {
   "cell_type": "markdown",
   "id": "6d991828",
   "metadata": {},
   "source": [
    "Simulate a ATM machine with below properties a. The user must input a PIN (assume it is 1234). Only if the pin is 1234 then below options should be made available. If wrong pin is entered 3 times then print “Your card is blocked”. b. If correct PIN is provided ask the customer how much amount he wants to withdraw? Assuming that current available balance is “1000000”. Further print the current balance available after deducting whatever amount the customer wanted to withdraw. c. Print “Good Bye!” after which if the customer wants to withdrew cash he will have to input the PIN again. codes"
   ]
  },
  {
   "cell_type": "code",
   "execution_count": 1,
   "id": "e61fb693",
   "metadata": {},
   "outputs": [
    {
     "name": "stdout",
     "output_type": "stream",
     "text": [
      "Enter your PIN: zainab\n",
      "Incorrect PIN (1/3).\n",
      "Enter your PIN: zainba\n",
      "Incorrect PIN (2/3).\n",
      "Enter your PIN: zainab\n",
      "Incorrect PIN (3/3).\n",
      "Your card is blocked.\n"
     ]
    }
   ],
   "source": [
    "MAX_ATTEMPTS = 3  # maximum number of incorrect PIN attempts\n",
    "CORRECT_PIN = \"1234\"  # the correct PIN\n",
    "AVAILABLE_BALANCE = 1000000  # the available balance in the account\n",
    "\n",
    "def withdraw_amount(balance):\n",
    "    \"\"\"\n",
    "    Prompts the user to enter an amount to withdraw and returns the updated balance after deducting the amount.\n",
    "\n",
    "    balance: float, the current available balance in the account.\n",
    "    returns: float, the updated balance after deducting the amount the user wants to withdraw.\n",
    "    \"\"\"\n",
    "    while True:\n",
    "        try:\n",
    "            amount = float(input(\"Enter amount to withdraw: \"))\n",
    "            if amount > balance:\n",
    "                print(\"Error: insufficient funds.\")\n",
    "            else:\n",
    "                return balance - amount\n",
    "        except ValueError:\n",
    "            print(\"Error: invalid amount.\")\n",
    "\n",
    "# Main program loop\n",
    "attempts = 0  # number of incorrect PIN attempts\n",
    "while attempts < MAX_ATTEMPTS:\n",
    "    pin = input(\"Enter your PIN: \")\n",
    "    if pin == CORRECT_PIN:\n",
    "        print(\"Welcome to the ATM!\")\n",
    "        balance = AVAILABLE_BALANCE\n",
    "        while True:\n",
    "            balance = withdraw_amount(balance)\n",
    "            print(f\"Current balance: ${balance:.2f}\")\n",
    "            response = input(\"Do you want to withdraw more cash? (y/n) \")\n",
    "            if response.lower() != \"y\":\n",
    "                print(\"Goodbye!\")\n",
    "                break\n",
    "        break\n",
    "    else:\n",
    "        attempts += 1\n",
    "        print(f\"Incorrect PIN ({attempts}/{MAX_ATTEMPTS}).\")\n",
    "else:\n",
    "    print(\"Your card is blocked.\")\n"
   ]
  },
  {
   "cell_type": "code",
   "execution_count": null,
   "id": "6f6a8c3a",
   "metadata": {},
   "outputs": [],
   "source": []
  }
 ],
 "metadata": {
  "kernelspec": {
   "display_name": "Python 3 (ipykernel)",
   "language": "python",
   "name": "python3"
  },
  "language_info": {
   "codemirror_mode": {
    "name": "ipython",
    "version": 3
   },
   "file_extension": ".py",
   "mimetype": "text/x-python",
   "name": "python",
   "nbconvert_exporter": "python",
   "pygments_lexer": "ipython3",
   "version": "3.9.13"
  }
 },
 "nbformat": 4,
 "nbformat_minor": 5
}
